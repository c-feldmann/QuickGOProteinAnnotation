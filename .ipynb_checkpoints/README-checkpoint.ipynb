{
 "cells": [
  {
   "cell_type": "markdown",
   "metadata": {
    "pycharm": {
     "name": "#%% md\n"
    }
   },
   "source": [
    "# QuckGOProteinAnnotation\n",
    "The database [QuickGO](https://www.ebi.ac.uk/QuickGO/) provides protein function annotations for proteins, specified by\n",
    "[UniProt](https://www.uniprot.org/) ID. Arranging proteins by function rather than family extends protein associations\n",
    "beyond evolutionary relations. However, proteins may have multiple functions (e.g. receptor tyrosine kinases) and\n",
    "are therefore not uniquely assigned.\n",
    "\n",
    "Provided code can be used to extract (specified) annotations from QuickGO."
   ]
  },
  {
   "cell_type": "markdown",
   "metadata": {},
   "source": [
    "## Installation in Conda\n",
    "If not already installed, install **pip** and **git**:\n",
    "```\n",
    "conda install git\n",
    "conda install pip\n",
    "```\n",
    "Then install via pip:\n",
    "```\n",
    "pip install git+git://github.com/c-feldmann/QuickGOProteinAnnotation\n",
    "```"
   ]
  },
  {
   "cell_type": "markdown",
   "metadata": {},
   "source": [
    "## Quickstart\n",
    "### From Terminal\n",
    "The script `annotate_protein_list.py` takes an input-file (here:  *demo_data/demo_uniprot_ids.tsv*) where\n",
    "proteins are specified in the column \"uniprot_id\". Results are saved to the file *demo_data/demo_output.tsv* as a\n",
    "tab-separated file.\n",
    "```\n",
    "python annotate_protein_list.py -i demo_data/demo_uniprot_ids.tsv -o demo_data/demo_output.tsv -c \"uniprot_id\" -s tab\n",
    "```\n",
    "|   Argument    |   Explanation |\n",
    "|:-------------:|:-------------:|\n",
    "| -i | input file |\n",
    "| -o | output file |\n",
    "| -c | column name |\n",
    "| -s | separator |\n",
    "\n",
    "The default value for `-s` is \"tab\", whereas the default output-file is named *go_function_annotation.tsv*.\n",
    "### In Python\n",
    "A short example how this package could be used in a python code:"
   ]
  },
  {
   "cell_type": "code",
   "execution_count": 1,
   "metadata": {},
   "outputs": [],
   "source": [
    "from go_protein_annotation  import DefaultAnnotation"
   ]
  },
  {
   "cell_type": "code",
   "execution_count": 2,
   "metadata": {},
   "outputs": [],
   "source": [
    "test_proteins = [\"Q16512\", \"P30085\", \"P25774\"]\n",
    "default_annotation = DefaultAnnotation()\n",
    "protein_class_df = default_annotation.annotate_proteins(test_proteins)"
   ]
  },
  {
   "cell_type": "code",
   "execution_count": 3,
   "metadata": {
    "pycharm": {
     "name": "#%%\n"
    }
   },
   "outputs": [
    {
     "data": {
      "text/html": [
       "<div>\n",
       "<style scoped>\n",
       "    .dataframe tbody tr th:only-of-type {\n",
       "        vertical-align: middle;\n",
       "    }\n",
       "\n",
       "    .dataframe tbody tr th {\n",
       "        vertical-align: top;\n",
       "    }\n",
       "\n",
       "    .dataframe thead th {\n",
       "        text-align: right;\n",
       "    }\n",
       "</style>\n",
       "<table border=\"1\" class=\"dataframe\">\n",
       "  <thead>\n",
       "    <tr style=\"text-align: right;\">\n",
       "      <th></th>\n",
       "      <th>uniprot_id</th>\n",
       "      <th>protein_function</th>\n",
       "    </tr>\n",
       "  </thead>\n",
       "  <tbody>\n",
       "    <tr>\n",
       "      <th>0</th>\n",
       "      <td>Q16512</td>\n",
       "      <td>Transcription regulator</td>\n",
       "    </tr>\n",
       "    <tr>\n",
       "      <th>1</th>\n",
       "      <td>Q16512</td>\n",
       "      <td>Kinase</td>\n",
       "    </tr>\n",
       "    <tr>\n",
       "      <th>2</th>\n",
       "      <td>P30085</td>\n",
       "      <td>Kinase</td>\n",
       "    </tr>\n",
       "    <tr>\n",
       "      <th>3</th>\n",
       "      <td>P25774</td>\n",
       "      <td>Peptidase</td>\n",
       "    </tr>\n",
       "  </tbody>\n",
       "</table>\n",
       "</div>"
      ],
      "text/plain": [
       "  uniprot_id         protein_function\n",
       "0     Q16512  Transcription regulator\n",
       "1     Q16512                   Kinase\n",
       "2     P30085                   Kinase\n",
       "3     P25774                Peptidase"
      ]
     },
     "execution_count": 3,
     "metadata": {},
     "output_type": "execute_result"
    }
   ],
   "source": [
    "protein_class_df"
   ]
  },
  {
   "cell_type": "markdown",
   "metadata": {
    "pycharm": {
     "name": "#%% md\n"
    }
   },
   "source": [
    "## Details\n",
    "QuckGO functions are ordered hierarchically. E.g. an explicit annotation of\n",
    "[peptidase activity](https://www.ebi.ac.uk/QuickGO/term/GO:0008233) implies also a\n",
    "[hydrolase activity](https://www.ebi.ac.uk/QuickGO/term/GO:0016787). Provided code extracts\n",
    "all explicit functional annotations and extends it with implicit annotations.\n",
    "### All Protein Functions\n",
    "To obtain *all* annotations for a protein the class `AllFunctionAnnotation` is used."
   ]
  },
  {
   "cell_type": "code",
   "execution_count": 4,
   "metadata": {
    "pycharm": {
     "name": "#%%\n"
    }
   },
   "outputs": [],
   "source": [
    "from go_protein_annotation import  AllFunctionAnnotation\n",
    "all_functions = AllFunctionAnnotation()\n",
    "\n",
    "# For a single protein\n",
    "all_functions_q16512 = all_functions.get_protein_functions(\"Q16512\")\n",
    "\n",
    "# For a list of proteins\n",
    "protein_functions = all_functions.annotate_proteins([\"Q16512\", \"P30085\"])"
   ]
  },
  {
   "cell_type": "code",
   "execution_count": 5,
   "metadata": {
    "pycharm": {
     "name": "#%%\n"
    }
   },
   "outputs": [
    {
     "data": {
      "text/html": [
       "<div>\n",
       "<style scoped>\n",
       "    .dataframe tbody tr th:only-of-type {\n",
       "        vertical-align: middle;\n",
       "    }\n",
       "\n",
       "    .dataframe tbody tr th {\n",
       "        vertical-align: top;\n",
       "    }\n",
       "\n",
       "    .dataframe thead th {\n",
       "        text-align: right;\n",
       "    }\n",
       "</style>\n",
       "<table border=\"1\" class=\"dataframe\">\n",
       "  <thead>\n",
       "    <tr style=\"text-align: right;\">\n",
       "      <th></th>\n",
       "      <th>uniprot_id</th>\n",
       "      <th>go_id</th>\n",
       "      <th>protein_function</th>\n",
       "    </tr>\n",
       "  </thead>\n",
       "  <tbody>\n",
       "    <tr>\n",
       "      <th>0</th>\n",
       "      <td>Q16512</td>\n",
       "      <td>GO:0005515</td>\n",
       "      <td>protein binding</td>\n",
       "    </tr>\n",
       "    <tr>\n",
       "      <th>1</th>\n",
       "      <td>Q16512</td>\n",
       "      <td>GO:0035639</td>\n",
       "      <td>purine ribonucleoside triphosphate binding</td>\n",
       "    </tr>\n",
       "    <tr>\n",
       "      <th>2</th>\n",
       "      <td>Q16512</td>\n",
       "      <td>GO:0000166</td>\n",
       "      <td>nucleotide binding</td>\n",
       "    </tr>\n",
       "    <tr>\n",
       "      <th>3</th>\n",
       "      <td>Q16512</td>\n",
       "      <td>GO:1901363</td>\n",
       "      <td>heterocyclic compound binding</td>\n",
       "    </tr>\n",
       "    <tr>\n",
       "      <th>4</th>\n",
       "      <td>Q16512</td>\n",
       "      <td>GO:0050681</td>\n",
       "      <td>androgen receptor binding</td>\n",
       "    </tr>\n",
       "    <tr>\n",
       "      <th>5</th>\n",
       "      <td>Q16512</td>\n",
       "      <td>GO:0140110</td>\n",
       "      <td>transcription regulator</td>\n",
       "    </tr>\n",
       "    <tr>\n",
       "      <th>6</th>\n",
       "      <td>Q16512</td>\n",
       "      <td>GO:0017076</td>\n",
       "      <td>purine nucleotide binding</td>\n",
       "    </tr>\n",
       "    <tr>\n",
       "      <th>7</th>\n",
       "      <td>Q16512</td>\n",
       "      <td>GO:0019901</td>\n",
       "      <td>protein kinase binding</td>\n",
       "    </tr>\n",
       "    <tr>\n",
       "      <th>8</th>\n",
       "      <td>Q16512</td>\n",
       "      <td>GO:0042826</td>\n",
       "      <td>histone deacetylase binding</td>\n",
       "    </tr>\n",
       "    <tr>\n",
       "      <th>9</th>\n",
       "      <td>Q16512</td>\n",
       "      <td>GO:0035257</td>\n",
       "      <td>nuclear hormone receptor binding</td>\n",
       "    </tr>\n",
       "  </tbody>\n",
       "</table>\n",
       "</div>"
      ],
      "text/plain": [
       "  uniprot_id       go_id                            protein_function\n",
       "0     Q16512  GO:0005515                             protein binding\n",
       "1     Q16512  GO:0035639  purine ribonucleoside triphosphate binding\n",
       "2     Q16512  GO:0000166                          nucleotide binding\n",
       "3     Q16512  GO:1901363               heterocyclic compound binding\n",
       "4     Q16512  GO:0050681                   androgen receptor binding\n",
       "5     Q16512  GO:0140110                     transcription regulator\n",
       "6     Q16512  GO:0017076                   purine nucleotide binding\n",
       "7     Q16512  GO:0019901                      protein kinase binding\n",
       "8     Q16512  GO:0042826                 histone deacetylase binding\n",
       "9     Q16512  GO:0035257            nuclear hormone receptor binding"
      ]
     },
     "execution_count": 5,
     "metadata": {},
     "output_type": "execute_result"
    }
   ],
   "source": [
    "all_functions_q16512.head(10)"
   ]
  },
  {
   "cell_type": "code",
   "execution_count": 6,
   "metadata": {
    "pycharm": {
     "name": "#%%\n"
    }
   },
   "outputs": [
    {
     "data": {
      "text/html": [
       "<div>\n",
       "<style scoped>\n",
       "    .dataframe tbody tr th:only-of-type {\n",
       "        vertical-align: middle;\n",
       "    }\n",
       "\n",
       "    .dataframe tbody tr th {\n",
       "        vertical-align: top;\n",
       "    }\n",
       "\n",
       "    .dataframe thead th {\n",
       "        text-align: right;\n",
       "    }\n",
       "</style>\n",
       "<table border=\"1\" class=\"dataframe\">\n",
       "  <thead>\n",
       "    <tr style=\"text-align: right;\">\n",
       "      <th></th>\n",
       "      <th>go_id</th>\n",
       "      <th>protein_function</th>\n",
       "    </tr>\n",
       "    <tr>\n",
       "      <th>uniprot_id</th>\n",
       "      <th></th>\n",
       "      <th></th>\n",
       "    </tr>\n",
       "  </thead>\n",
       "  <tbody>\n",
       "    <tr>\n",
       "      <th>P30085</th>\n",
       "      <td>30</td>\n",
       "      <td>30</td>\n",
       "    </tr>\n",
       "    <tr>\n",
       "      <th>Q16512</th>\n",
       "      <td>55</td>\n",
       "      <td>55</td>\n",
       "    </tr>\n",
       "  </tbody>\n",
       "</table>\n",
       "</div>"
      ],
      "text/plain": [
       "            go_id  protein_function\n",
       "uniprot_id                         \n",
       "P30085         30                30\n",
       "Q16512         55                55"
      ]
     },
     "execution_count": 6,
     "metadata": {},
     "output_type": "execute_result"
    }
   ],
   "source": [
    "protein_functions.groupby(\"uniprot_id\").nunique()"
   ]
  },
  {
   "cell_type": "markdown",
   "metadata": {
    "pycharm": {
     "name": "#%% md\n"
    }
   },
   "source": [
    "### A Subset of Protein Functions\n",
    "Often it can be useful to extract only a subset of protein functions. This can be achieved using the class\n",
    "`SelectedFunctionAnnotation`."
   ]
  },
  {
   "cell_type": "code",
   "execution_count": 7,
   "metadata": {
    "pycharm": {
     "name": "#%%\n"
    }
   },
   "outputs": [],
   "source": [
    "from go_protein_annotation import SelectedFunctionAnnotation"
   ]
  },
  {
   "cell_type": "code",
   "execution_count": 8,
   "metadata": {
    "pycharm": {
     "name": "#%%\n"
    }
   },
   "outputs": [],
   "source": [
    "selected_functions = {\"GO:0016301\",  # Kinase activity\n",
    "                      \"GO:0140110\",  # Transcription regulator activity\n",
    "                      \"GO:0008233\",  # Peptidase activity\n",
    "                      }\n",
    "sel_function_extraction = SelectedFunctionAnnotation(selected_functions)\n",
    "out = sel_function_extraction.get_protein_functions(\"Q16512\")"
   ]
  },
  {
   "cell_type": "code",
   "execution_count": 9,
   "metadata": {
    "pycharm": {
     "name": "#%%\n"
    }
   },
   "outputs": [
    {
     "data": {
      "text/html": [
       "<div>\n",
       "<style scoped>\n",
       "    .dataframe tbody tr th:only-of-type {\n",
       "        vertical-align: middle;\n",
       "    }\n",
       "\n",
       "    .dataframe tbody tr th {\n",
       "        vertical-align: top;\n",
       "    }\n",
       "\n",
       "    .dataframe thead th {\n",
       "        text-align: right;\n",
       "    }\n",
       "</style>\n",
       "<table border=\"1\" class=\"dataframe\">\n",
       "  <thead>\n",
       "    <tr style=\"text-align: right;\">\n",
       "      <th></th>\n",
       "      <th>uniprot_id</th>\n",
       "      <th>go_id</th>\n",
       "      <th>protein_function</th>\n",
       "    </tr>\n",
       "  </thead>\n",
       "  <tbody>\n",
       "    <tr>\n",
       "      <th>0</th>\n",
       "      <td>Q16512</td>\n",
       "      <td>GO:0140110</td>\n",
       "      <td>transcription regulator</td>\n",
       "    </tr>\n",
       "    <tr>\n",
       "      <th>1</th>\n",
       "      <td>Q16512</td>\n",
       "      <td>GO:0016301</td>\n",
       "      <td>kinase</td>\n",
       "    </tr>\n",
       "  </tbody>\n",
       "</table>\n",
       "</div>"
      ],
      "text/plain": [
       "  uniprot_id       go_id         protein_function\n",
       "0     Q16512  GO:0140110  transcription regulator\n",
       "1     Q16512  GO:0016301                   kinase"
      ]
     },
     "execution_count": 9,
     "metadata": {},
     "output_type": "execute_result"
    }
   ],
   "source": [
    "out"
   ]
  },
  {
   "cell_type": "markdown",
   "metadata": {
    "pycharm": {
     "name": "#%% md\n"
    }
   },
   "source": [
    "### User defined Protein Annotations\n",
    "Users can also specify groups based on personal preferences. Therefore three arguments need to be specified:\n",
    "* Required functions: A set of functions which a protein must have to be assigned to this group.\n",
    "* Permitted functions: A set of functions of which must not overlap with the protein functions.\n",
    "* A name\n",
    "\n",
    "This class is also used to define the class `DefaultAnnotation`. The individual definitions can be found in the file\n",
    "*go_protein_annotation/default_use.py*.\n",
    "A simple example to separate protein kinases from other kinases and non-kinases:"
   ]
  },
  {
   "cell_type": "code",
   "execution_count": 10,
   "metadata": {
    "pycharm": {
     "name": "#%%\n"
    }
   },
   "outputs": [],
   "source": [
    "from go_protein_annotation import SpecialFunctionAnnotation\n",
    "# Must have 'GO:0004672' (protein kinase activity)\n",
    "# No permitted functions\n",
    "# Name: \"Protein kinase\"\n",
    "protein_kinases = ({\"GO:0004672\"}, set(), \"Protein kinase\")\n",
    "\n",
    "# Must have 'GO:0004672' (kinase activity)\n",
    "# Must not have '\"GO:0004672' (protein kinase activity)\n",
    "# Name: \"Other kinase\"\n",
    "other_kinases = ({\"GO:0016301\"}, {\"GO:0004672\"}, \"Other kinase\")\n",
    "\n",
    "# No required functions (all proteins would match this)\n",
    "# Must not have '\"GO:0016301' (kinase activity)\n",
    "# Name: \"Non-kinase\"\n",
    "non_kinases = (set(), {\"GO:0016301\"}, \"Non-kinase\")\n",
    "\n",
    "example_classification = SpecialFunctionAnnotation([protein_kinases, other_kinases, non_kinases])\n",
    "\n",
    "test_protein_annotations = example_classification.annotate_proteins(test_proteins)"
   ]
  },
  {
   "cell_type": "code",
   "execution_count": 11,
   "metadata": {
    "pycharm": {
     "name": "#%%\n"
    }
   },
   "outputs": [
    {
     "data": {
      "text/html": [
       "<div>\n",
       "<style scoped>\n",
       "    .dataframe tbody tr th:only-of-type {\n",
       "        vertical-align: middle;\n",
       "    }\n",
       "\n",
       "    .dataframe tbody tr th {\n",
       "        vertical-align: top;\n",
       "    }\n",
       "\n",
       "    .dataframe thead th {\n",
       "        text-align: right;\n",
       "    }\n",
       "</style>\n",
       "<table border=\"1\" class=\"dataframe\">\n",
       "  <thead>\n",
       "    <tr style=\"text-align: right;\">\n",
       "      <th></th>\n",
       "      <th>uniprot_id</th>\n",
       "      <th>protein_function</th>\n",
       "    </tr>\n",
       "  </thead>\n",
       "  <tbody>\n",
       "    <tr>\n",
       "      <th>0</th>\n",
       "      <td>Q16512</td>\n",
       "      <td>Protein kinase</td>\n",
       "    </tr>\n",
       "    <tr>\n",
       "      <th>1</th>\n",
       "      <td>P30085</td>\n",
       "      <td>Other kinase</td>\n",
       "    </tr>\n",
       "    <tr>\n",
       "      <th>2</th>\n",
       "      <td>P25774</td>\n",
       "      <td>Non-kinase</td>\n",
       "    </tr>\n",
       "  </tbody>\n",
       "</table>\n",
       "</div>"
      ],
      "text/plain": [
       "  uniprot_id protein_function\n",
       "0     Q16512   Protein kinase\n",
       "1     P30085     Other kinase\n",
       "2     P25774       Non-kinase"
      ]
     },
     "execution_count": 11,
     "metadata": {},
     "output_type": "execute_result"
    }
   ],
   "source": [
    "test_protein_annotations"
   ]
  },
  {
   "cell_type": "markdown",
   "metadata": {
    "pycharm": {
     "name": "#%% md\n"
    }
   },
   "source": [
    "### Default Function Definition\n",
    "See *go_protein_annotation/default_use.py*. Explicit explanation will follow.\n",
    "### Miscellaneous\n",
    "* Only QuickGO protein functions are used. QuckGO also gives information about involvement in biological\n",
    "processes. These annotations are not considered.\n",
    "* The classes `AllFunctionAnnotation` and `SelectedFunctionAnnotation` accept the keyword `alternative_name_dict`\n",
    " * Keys: GO ID\n",
    " * Value: Alternative name\n",
    "* The classes `AllFunctionAnnotation` and `SelectedFunctionAnnotation` accept the keyword `simplify_name`\n",
    " * True (default): \" activity\" is removed from each protein function name (e.g. \"kinase activity\" -> \"kinase\")\n",
    " * False: protein functions are named as given by QuickGO"
   ]
  }
 ],
 "metadata": {
  "kernelspec": {
   "display_name": "Python 3",
   "language": "python",
   "name": "python3"
  },
  "language_info": {
   "codemirror_mode": {
    "name": "ipython",
    "version": 3
   },
   "file_extension": ".py",
   "mimetype": "text/x-python",
   "name": "python",
   "nbconvert_exporter": "python",
   "pygments_lexer": "ipython3",
   "version": "3.6.10"
  }
 },
 "nbformat": 4,
 "nbformat_minor": 4
}
