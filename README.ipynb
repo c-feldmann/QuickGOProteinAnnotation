{
 "cells": [
  {
   "cell_type": "markdown",
   "metadata": {
    "pycharm": {
     "name": "#%% md\n"
    }
   },
   "source": [
    "# QuckGOProteinAnnotation\n",
    "Protein function annotations provided by [QuickGO](https://www.ebi.ac.uk/QuickGO/) can be used to\n",
    "classify proteins specified by [UniProt](https://www.uniprot.org/) ID.\n",
    "So far, currently class-assignment are non-unique, so a protein can be"
   ]
  },
  {
   "cell_type": "markdown",
   "source": [
    "## Installation in Conda\n",
    "If not already installed, install **pip** and **git**:\n",
    "```\n",
    "conda install git\n",
    "conda install pip\n",
    "```\n",
    "Then install via pip:\n",
    "```\n",
    "pip install git+git://github.com/c-feldmann/QuickGOProteinAnnotation\n",
    "```"
   ],
   "metadata": {
    "collapsed": false
   }
  },
  {
   "cell_type": "markdown",
   "source": [
    "## Quickstart\n",
    "### From Terminal\n",
    "```\n",
    "python annotate_protein_list.py -i demo_data/demo_uniprot_ids.tsv -o demo_data/demo_output.tsv -c \"uniprot_id\" -s tab\n",
    "```\n",
    "### In Python"
   ],
   "metadata": {
    "collapsed": false
   }
  },
  {
   "cell_type": "code",
   "execution_count": 2,
   "metadata": {},
   "outputs": [],
   "source": [
    "from go_protein_annotation  import DefaultAnnotation\n",
    "from go_protein_annotation import  AllFunctionAnnotation"
   ]
  },
  {
   "cell_type": "code",
   "execution_count": 3,
   "metadata": {},
   "outputs": [],
   "source": [
    "test_proteins = [\"Q16512\", \"P30085\", \"P25774\"]"
   ]
  },
  {
   "cell_type": "code",
   "execution_count": 4,
   "metadata": {
    "pycharm": {
     "name": "#%%\n"
    }
   },
   "outputs": [],
   "source": [
    "default_annotation = DefaultAnnotation()\n",
    "protein_class_df = default_annotation.annotate_proteins(test_proteins)"
   ]
  },
  {
   "cell_type": "code",
   "execution_count": 5,
   "outputs": [
    {
     "data": {
      "text/plain": "  uniprot_id                functions\n0     Q16512  Transcription regulator\n1     Q16512                   Kinase\n2     P30085                   Kinase\n3     P25774                Peptidase",
      "text/html": "<div>\n<style scoped>\n    .dataframe tbody tr th:only-of-type {\n        vertical-align: middle;\n    }\n\n    .dataframe tbody tr th {\n        vertical-align: top;\n    }\n\n    .dataframe thead th {\n        text-align: right;\n    }\n</style>\n<table border=\"1\" class=\"dataframe\">\n  <thead>\n    <tr style=\"text-align: right;\">\n      <th></th>\n      <th>uniprot_id</th>\n      <th>functions</th>\n    </tr>\n  </thead>\n  <tbody>\n    <tr>\n      <th>0</th>\n      <td>Q16512</td>\n      <td>Transcription regulator</td>\n    </tr>\n    <tr>\n      <th>1</th>\n      <td>Q16512</td>\n      <td>Kinase</td>\n    </tr>\n    <tr>\n      <th>2</th>\n      <td>P30085</td>\n      <td>Kinase</td>\n    </tr>\n    <tr>\n      <th>3</th>\n      <td>P25774</td>\n      <td>Peptidase</td>\n    </tr>\n  </tbody>\n</table>\n</div>"
     },
     "execution_count": 5,
     "metadata": {},
     "output_type": "execute_result"
    }
   ],
   "source": [
    "protein_class_df\n"
   ],
   "metadata": {
    "collapsed": false,
    "pycharm": {
     "name": "#%%\n"
    }
   }
  },
  {
   "cell_type": "markdown",
   "source": [
    "## Details\n",
    "QuckGO functions are ordered hierarchically. E.g. an explicit annotation of\n",
    "[peptidase activity](https://www.ebi.ac.uk/QuickGO/term/GO:0008233) implies a\n",
    "[hydrolase activity](https://www.ebi.ac.uk/QuickGO/term/GO:0016787) as well. Provided code extracts\n",
    "all explicit functional annotations and extends it with implicit annotations."
   ],
   "metadata": {
    "collapsed": false,
    "pycharm": {
     "name": "#%% md\n"
    }
   }
  },
  {
   "cell_type": "code",
   "source": [
    "all_functions = AllFunctionAnnotation()\n",
    "all_functions.get_protein_functions(\"Q16512\")\n"
   ],
   "metadata": {
    "collapsed": false,
    "pycharm": {
     "name": "#%%\n"
    }
   },
   "execution_count": 6,
   "outputs": [
    {
     "data": {
      "text/plain": "   uniprot_id       go_id                                               name\n0      Q16512  GO:0098772                       molecular function regulator\n1      Q16512  GO:0004672                                     protein kinase\n2      Q16512  GO:0036094                             small molecule binding\n3      Q16512  GO:0019901                             protein kinase binding\n4      Q16512  GO:0032553                             ribonucleotide binding\n5      Q16512  GO:0043167                                        ion binding\n6      Q16512  GO:0140110                            transcription regulator\n7      Q16512  GO:0003712                          transcription coregulator\n8      Q16512  GO:0009931  calcium-dependent protein serine/threonine kinase\n9      Q16512  GO:0050681                          androgen receptor binding\n10     Q16512  GO:0005080                           protein kinase C binding\n11     Q16512  GO:0000166                                 nucleotide binding\n12     Q16512  GO:0019900                                     kinase binding\n13     Q16512  GO:0010857                   calcium-dependent protein kinase\n14     Q16512  GO:0140096            catalytic activity, acting on a protein\n15     Q16512  GO:0097159                    organic cyclic compound binding\n16     Q16512  GO:0097367                    carbohydrate derivative binding\n17     Q16512  GO:0016773  phosphotransferase activity, alcohol group as ...\n18     Q16512  GO:0035402          histone kinase activity (H3-T11 specific)\n19     Q16512  GO:0035639         purine ribonucleoside triphosphate binding\n20     Q16512  GO:0061629  RNA polymerase II-specific DNA-binding transcr...\n21     Q16512  GO:0030374                       nuclear receptor coactivator\n22     Q16512  GO:0003713                          transcription coactivator\n23     Q16512  GO:0005488                                            binding\n24     Q16512  GO:0017076                          purine nucleotide binding\n25     Q16512  GO:0035257                   nuclear hormone receptor binding\n26     Q16512  GO:0035184                           histone threonine kinase\n27     Q16512  GO:1901363                      heterocyclic compound binding\n28     Q16512  GO:0032555                      purine ribonucleotide binding\n29     Q16512  GO:0004674                    protein serine/threonine kinase\n30     Q16512  GO:0005102                         signaling receptor binding\n31     Q16512  GO:0051020                                     GTPase binding\n32     Q16512  GO:0003682                                  chromatin binding\n33     Q16512  GO:0016922                           nuclear receptor binding\n34     Q16512  GO:0035173                                     histone kinase\n35     Q16512  GO:0005515                                    protein binding\n36     Q16512  GO:0004698                 calcium-dependent protein kinase C\n37     Q16512  GO:0042393                                    histone binding\n38     Q16512  GO:0032559                      adenyl ribonucleotide binding\n39     Q16512  GO:0043168                                      anion binding\n40     Q16512  GO:0004697                                   protein kinase C\n41     Q16512  GO:0140297           DNA-binding transcription factor binding\n42     Q16512  GO:0051427                           hormone receptor binding\n43     Q16512  GO:0016772  transferase activity, transferring phosphorus-...\n44     Q16512  GO:0030554                          adenyl nucleotide binding\n45     Q16512  GO:0016301                                             kinase\n46     Q16512  GO:0035258                   steroid hormone receptor binding\n47     Q16512  GO:0008134                       transcription factor binding\n48     Q16512  GO:0005524                                        ATP binding\n49     Q16512  GO:1901265                       nucleoside phosphate binding\n50     Q16512  GO:0016740                                        transferase\n51     Q16512  GO:0042826                        histone deacetylase binding\n52     Q16512  GO:0003824                                              catal\n53     Q16512  GO:0031267                               small GTPase binding\n54     Q16512  GO:0019899                                     enzyme binding",
      "text/html": "<div>\n<style scoped>\n    .dataframe tbody tr th:only-of-type {\n        vertical-align: middle;\n    }\n\n    .dataframe tbody tr th {\n        vertical-align: top;\n    }\n\n    .dataframe thead th {\n        text-align: right;\n    }\n</style>\n<table border=\"1\" class=\"dataframe\">\n  <thead>\n    <tr style=\"text-align: right;\">\n      <th></th>\n      <th>uniprot_id</th>\n      <th>go_id</th>\n      <th>name</th>\n    </tr>\n  </thead>\n  <tbody>\n    <tr>\n      <th>0</th>\n      <td>Q16512</td>\n      <td>GO:0098772</td>\n      <td>molecular function regulator</td>\n    </tr>\n    <tr>\n      <th>1</th>\n      <td>Q16512</td>\n      <td>GO:0004672</td>\n      <td>protein kinase</td>\n    </tr>\n    <tr>\n      <th>2</th>\n      <td>Q16512</td>\n      <td>GO:0036094</td>\n      <td>small molecule binding</td>\n    </tr>\n    <tr>\n      <th>3</th>\n      <td>Q16512</td>\n      <td>GO:0019901</td>\n      <td>protein kinase binding</td>\n    </tr>\n    <tr>\n      <th>4</th>\n      <td>Q16512</td>\n      <td>GO:0032553</td>\n      <td>ribonucleotide binding</td>\n    </tr>\n    <tr>\n      <th>5</th>\n      <td>Q16512</td>\n      <td>GO:0043167</td>\n      <td>ion binding</td>\n    </tr>\n    <tr>\n      <th>6</th>\n      <td>Q16512</td>\n      <td>GO:0140110</td>\n      <td>transcription regulator</td>\n    </tr>\n    <tr>\n      <th>7</th>\n      <td>Q16512</td>\n      <td>GO:0003712</td>\n      <td>transcription coregulator</td>\n    </tr>\n    <tr>\n      <th>8</th>\n      <td>Q16512</td>\n      <td>GO:0009931</td>\n      <td>calcium-dependent protein serine/threonine kinase</td>\n    </tr>\n    <tr>\n      <th>9</th>\n      <td>Q16512</td>\n      <td>GO:0050681</td>\n      <td>androgen receptor binding</td>\n    </tr>\n    <tr>\n      <th>10</th>\n      <td>Q16512</td>\n      <td>GO:0005080</td>\n      <td>protein kinase C binding</td>\n    </tr>\n    <tr>\n      <th>11</th>\n      <td>Q16512</td>\n      <td>GO:0000166</td>\n      <td>nucleotide binding</td>\n    </tr>\n    <tr>\n      <th>12</th>\n      <td>Q16512</td>\n      <td>GO:0019900</td>\n      <td>kinase binding</td>\n    </tr>\n    <tr>\n      <th>13</th>\n      <td>Q16512</td>\n      <td>GO:0010857</td>\n      <td>calcium-dependent protein kinase</td>\n    </tr>\n    <tr>\n      <th>14</th>\n      <td>Q16512</td>\n      <td>GO:0140096</td>\n      <td>catalytic activity, acting on a protein</td>\n    </tr>\n    <tr>\n      <th>15</th>\n      <td>Q16512</td>\n      <td>GO:0097159</td>\n      <td>organic cyclic compound binding</td>\n    </tr>\n    <tr>\n      <th>16</th>\n      <td>Q16512</td>\n      <td>GO:0097367</td>\n      <td>carbohydrate derivative binding</td>\n    </tr>\n    <tr>\n      <th>17</th>\n      <td>Q16512</td>\n      <td>GO:0016773</td>\n      <td>phosphotransferase activity, alcohol group as ...</td>\n    </tr>\n    <tr>\n      <th>18</th>\n      <td>Q16512</td>\n      <td>GO:0035402</td>\n      <td>histone kinase activity (H3-T11 specific)</td>\n    </tr>\n    <tr>\n      <th>19</th>\n      <td>Q16512</td>\n      <td>GO:0035639</td>\n      <td>purine ribonucleoside triphosphate binding</td>\n    </tr>\n    <tr>\n      <th>20</th>\n      <td>Q16512</td>\n      <td>GO:0061629</td>\n      <td>RNA polymerase II-specific DNA-binding transcr...</td>\n    </tr>\n    <tr>\n      <th>21</th>\n      <td>Q16512</td>\n      <td>GO:0030374</td>\n      <td>nuclear receptor coactivator</td>\n    </tr>\n    <tr>\n      <th>22</th>\n      <td>Q16512</td>\n      <td>GO:0003713</td>\n      <td>transcription coactivator</td>\n    </tr>\n    <tr>\n      <th>23</th>\n      <td>Q16512</td>\n      <td>GO:0005488</td>\n      <td>binding</td>\n    </tr>\n    <tr>\n      <th>24</th>\n      <td>Q16512</td>\n      <td>GO:0017076</td>\n      <td>purine nucleotide binding</td>\n    </tr>\n    <tr>\n      <th>25</th>\n      <td>Q16512</td>\n      <td>GO:0035257</td>\n      <td>nuclear hormone receptor binding</td>\n    </tr>\n    <tr>\n      <th>26</th>\n      <td>Q16512</td>\n      <td>GO:0035184</td>\n      <td>histone threonine kinase</td>\n    </tr>\n    <tr>\n      <th>27</th>\n      <td>Q16512</td>\n      <td>GO:1901363</td>\n      <td>heterocyclic compound binding</td>\n    </tr>\n    <tr>\n      <th>28</th>\n      <td>Q16512</td>\n      <td>GO:0032555</td>\n      <td>purine ribonucleotide binding</td>\n    </tr>\n    <tr>\n      <th>29</th>\n      <td>Q16512</td>\n      <td>GO:0004674</td>\n      <td>protein serine/threonine kinase</td>\n    </tr>\n    <tr>\n      <th>30</th>\n      <td>Q16512</td>\n      <td>GO:0005102</td>\n      <td>signaling receptor binding</td>\n    </tr>\n    <tr>\n      <th>31</th>\n      <td>Q16512</td>\n      <td>GO:0051020</td>\n      <td>GTPase binding</td>\n    </tr>\n    <tr>\n      <th>32</th>\n      <td>Q16512</td>\n      <td>GO:0003682</td>\n      <td>chromatin binding</td>\n    </tr>\n    <tr>\n      <th>33</th>\n      <td>Q16512</td>\n      <td>GO:0016922</td>\n      <td>nuclear receptor binding</td>\n    </tr>\n    <tr>\n      <th>34</th>\n      <td>Q16512</td>\n      <td>GO:0035173</td>\n      <td>histone kinase</td>\n    </tr>\n    <tr>\n      <th>35</th>\n      <td>Q16512</td>\n      <td>GO:0005515</td>\n      <td>protein binding</td>\n    </tr>\n    <tr>\n      <th>36</th>\n      <td>Q16512</td>\n      <td>GO:0004698</td>\n      <td>calcium-dependent protein kinase C</td>\n    </tr>\n    <tr>\n      <th>37</th>\n      <td>Q16512</td>\n      <td>GO:0042393</td>\n      <td>histone binding</td>\n    </tr>\n    <tr>\n      <th>38</th>\n      <td>Q16512</td>\n      <td>GO:0032559</td>\n      <td>adenyl ribonucleotide binding</td>\n    </tr>\n    <tr>\n      <th>39</th>\n      <td>Q16512</td>\n      <td>GO:0043168</td>\n      <td>anion binding</td>\n    </tr>\n    <tr>\n      <th>40</th>\n      <td>Q16512</td>\n      <td>GO:0004697</td>\n      <td>protein kinase C</td>\n    </tr>\n    <tr>\n      <th>41</th>\n      <td>Q16512</td>\n      <td>GO:0140297</td>\n      <td>DNA-binding transcription factor binding</td>\n    </tr>\n    <tr>\n      <th>42</th>\n      <td>Q16512</td>\n      <td>GO:0051427</td>\n      <td>hormone receptor binding</td>\n    </tr>\n    <tr>\n      <th>43</th>\n      <td>Q16512</td>\n      <td>GO:0016772</td>\n      <td>transferase activity, transferring phosphorus-...</td>\n    </tr>\n    <tr>\n      <th>44</th>\n      <td>Q16512</td>\n      <td>GO:0030554</td>\n      <td>adenyl nucleotide binding</td>\n    </tr>\n    <tr>\n      <th>45</th>\n      <td>Q16512</td>\n      <td>GO:0016301</td>\n      <td>kinase</td>\n    </tr>\n    <tr>\n      <th>46</th>\n      <td>Q16512</td>\n      <td>GO:0035258</td>\n      <td>steroid hormone receptor binding</td>\n    </tr>\n    <tr>\n      <th>47</th>\n      <td>Q16512</td>\n      <td>GO:0008134</td>\n      <td>transcription factor binding</td>\n    </tr>\n    <tr>\n      <th>48</th>\n      <td>Q16512</td>\n      <td>GO:0005524</td>\n      <td>ATP binding</td>\n    </tr>\n    <tr>\n      <th>49</th>\n      <td>Q16512</td>\n      <td>GO:1901265</td>\n      <td>nucleoside phosphate binding</td>\n    </tr>\n    <tr>\n      <th>50</th>\n      <td>Q16512</td>\n      <td>GO:0016740</td>\n      <td>transferase</td>\n    </tr>\n    <tr>\n      <th>51</th>\n      <td>Q16512</td>\n      <td>GO:0042826</td>\n      <td>histone deacetylase binding</td>\n    </tr>\n    <tr>\n      <th>52</th>\n      <td>Q16512</td>\n      <td>GO:0003824</td>\n      <td>catal</td>\n    </tr>\n    <tr>\n      <th>53</th>\n      <td>Q16512</td>\n      <td>GO:0031267</td>\n      <td>small GTPase binding</td>\n    </tr>\n    <tr>\n      <th>54</th>\n      <td>Q16512</td>\n      <td>GO:0019899</td>\n      <td>enzyme binding</td>\n    </tr>\n  </tbody>\n</table>\n</div>"
     },
     "execution_count": 6,
     "metadata": {},
     "output_type": "execute_result"
    }
   ]
  }
 ],
 "metadata": {
  "kernelspec": {
   "display_name": "Python 3",
   "language": "python",
   "name": "python3"
  },
  "language_info": {
   "codemirror_mode": {
    "name": "ipython",
    "version": 3
   },
   "file_extension": ".py",
   "mimetype": "text/x-python",
   "name": "python",
   "nbconvert_exporter": "python",
   "pygments_lexer": "ipython3",
   "version": "3.6.10"
  }
 },
 "nbformat": 4,
 "nbformat_minor": 4
}